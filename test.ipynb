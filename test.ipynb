{
 "cells": [
  {
   "cell_type": "code",
   "execution_count": 2,
   "metadata": {},
   "outputs": [],
   "source": [
    "class Node:\n",
    "    def __init__(self,data):\n",
    "        self.data = data\n",
    "        self.next = None\n",
    "\n",
    "class LinkedList:\n",
    "    def __init__(self):\n",
    "        self.head = None\n",
    "    \n",
    "    #new node at beginning\n",
    "    def push(self,new_data):\n",
    "        new_node = Node(new_data)\n",
    "        new_node.next = self.head\n",
    "        self.head = new_node\n",
    "\n",
    "    #new node after a given prev_node\n",
    "    def insertAfter(self, prev_node, new_data):\n",
    "        if prev_node is None:\n",
    "            print(\"The previous node must be in the linked list\")\n",
    "            return\n",
    "        new_node = Node(new_data)\n",
    "        new_node.next = prev_node.next\n",
    "        prev_node.next = new_node\n",
    "\n",
    "    # append a new node at the end\n",
    "    def append(self, new_data):\n",
    "        new_node = Node(new_data)\n",
    "        if self.head is None:\n",
    "            self.head = new_node\n",
    "            return\n",
    "        last = self.head\n",
    "        while last.next:\n",
    "            last = last.next\n",
    "        last.next = new_node\n",
    "\n",
    "    # print \n",
    "    def printList(self):\n",
    "        temp = self.head\n",
    "        while temp:\n",
    "            print(temp.data, end=\"->\")\n",
    "            temp = temp.next\n",
    "        print()"
   ]
  },
  {
   "cell_type": "code",
   "execution_count": 3,
   "metadata": {},
   "outputs": [
    {
     "ename": "TypeError",
     "evalue": "Node() takes no arguments",
     "output_type": "error",
     "traceback": [
      "\u001b[1;31m---------------------------------------------------------------------------\u001b[0m",
      "\u001b[1;31mTypeError\u001b[0m                                 Traceback (most recent call last)",
      "Cell \u001b[1;32mIn[3], line 5\u001b[0m\n\u001b[0;32m      2\u001b[0m llist \u001b[38;5;241m=\u001b[39m LinkedList()\n\u001b[0;32m      4\u001b[0m \u001b[38;5;66;03m# Insert 6. So the list becomes 6->None\u001b[39;00m\n\u001b[1;32m----> 5\u001b[0m \u001b[43mllist\u001b[49m\u001b[38;5;241;43m.\u001b[39;49m\u001b[43mappend\u001b[49m\u001b[43m(\u001b[49m\u001b[38;5;241;43m6\u001b[39;49m\u001b[43m)\u001b[49m\n\u001b[0;32m      7\u001b[0m \u001b[38;5;66;03m# Insert 7 at the beginning. So linked list becomes 7->6->None\u001b[39;00m\n\u001b[0;32m      8\u001b[0m llist\u001b[38;5;241m.\u001b[39mpush(\u001b[38;5;241m7\u001b[39m)\n",
      "Cell \u001b[1;32mIn[2], line 27\u001b[0m, in \u001b[0;36mLinkedList.append\u001b[1;34m(self, new_data)\u001b[0m\n\u001b[0;32m     26\u001b[0m \u001b[38;5;28;01mdef\u001b[39;00m \u001b[38;5;21mappend\u001b[39m(\u001b[38;5;28mself\u001b[39m, new_data):\n\u001b[1;32m---> 27\u001b[0m     new_node \u001b[38;5;241m=\u001b[39m \u001b[43mNode\u001b[49m\u001b[43m(\u001b[49m\u001b[43mnew_data\u001b[49m\u001b[43m)\u001b[49m\n\u001b[0;32m     28\u001b[0m     \u001b[38;5;28;01mif\u001b[39;00m \u001b[38;5;28mself\u001b[39m\u001b[38;5;241m.\u001b[39mhead \u001b[38;5;129;01mis\u001b[39;00m \u001b[38;5;28;01mNone\u001b[39;00m:\n\u001b[0;32m     29\u001b[0m         \u001b[38;5;28mself\u001b[39m\u001b[38;5;241m.\u001b[39mhead \u001b[38;5;241m=\u001b[39m new_node\n",
      "\u001b[1;31mTypeError\u001b[0m: Node() takes no arguments"
     ]
    }
   ],
   "source": [
    "# Create a new linked list\n",
    "llist = LinkedList()\n",
    "\n",
    "# Insert 6. So the list becomes 6->None\n",
    "llist.append(6)\n",
    "\n",
    "# Insert 7 at the beginning. So linked list becomes 7->6->None\n",
    "llist.push(7)\n",
    "\n",
    "# Insert 1 at the beginning. So linked list becomes 1->7->6->None\n",
    "llist.push(1)\n",
    "\n",
    "# Insert 4 at the end. So linked list becomes 1->7->6->4->None\n",
    "llist.append(4)\n",
    "\n",
    "# Insert 8, after 7. So linked list becomes 1->7->8->6->4->None\n",
    "llist.insertAfter(llist.head.next, 8)\n",
    "\n",
    "# Print the linked list\n",
    "llist.printList()"
   ]
  }
 ],
 "metadata": {
  "kernelspec": {
   "display_name": "base",
   "language": "python",
   "name": "python3"
  },
  "language_info": {
   "codemirror_mode": {
    "name": "ipython",
    "version": 3
   },
   "file_extension": ".py",
   "mimetype": "text/x-python",
   "name": "python",
   "nbconvert_exporter": "python",
   "pygments_lexer": "ipython3",
   "version": "3.10.9"
  }
 },
 "nbformat": 4,
 "nbformat_minor": 2
}
